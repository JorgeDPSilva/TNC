{
 "cells": [
  {
   "cell_type": "markdown",
   "metadata": {
    "collapsed": false
   },
   "source": [
    "# Esquema de Assinatura ElGamal"
   ]
  },
  {
   "cell_type": "markdown",
   "metadata": {
    "collapsed": false
   },
   "source": [
    "### Key generation\n",
    "\n",
    "Para criar a chave pública e a chave privada, implementámos a função $\\textit{keyGeneration}$ que tem como argumento um número de bits:\n",
    "\n",
    "#### chave pública\n",
    "\n",
    "$$PubKey = (p, r, b)$$\n",
    "\n",
    "#### chave privada\n",
    "\n",
    "$$PrivKey = (p,r,x)$$\n",
    "\n",
    "onde,\n",
    "\n",
    "<ul>\n",
    "    <li> $\\textbf{p}$ é um primo aleatório com o número de bits passado como argumento</li>\n",
    "    <li> $\\textbf{r}$ é uma raíz primitva</li>\n",
    "    <li> $b = r^x \\mod p $</li>\n",
    "    <ul>\n",
    "        <li>$\\textbf{x}$ é um número aleatório no intervalo $1 \\leq x \\leq p-1$ e é primo relativo com $\\textbf{p}$</li>\n",
    "    </ul>\n",
    "</ul>"
   ]
  },
  {
   "cell_type": "code",
   "execution_count": 1,
   "metadata": {
    "collapsed": false
   },
   "outputs": [
   ],
   "source": [
    "import random\n",
    "def keyGeneration(nbits):\n",
    "    p = random_prime(2^(nbits//2),2^(nbits//2-1))\n",
    "    \n",
    "    \n",
    "    r = primitive_root(p)\n",
    "    \n",
    "    Zp = IntegerModRing(p)\n",
    "    \n",
    "    r = Zp(r)\n",
    "    \n",
    "    while True:\n",
    "        x = random.randint(1, p-1)\n",
    "        if (gcd(x,p-1) == 1):\n",
    "            break\n",
    "            \n",
    "    b = power_mod(r,x,p)\n",
    "    \n",
    "    PubKey = (p, r, b)\n",
    "    PrivKey = (p, r, x)\n",
    "    \n",
    "    return PubKey, PrivKey"
   ]
  },
  {
   "cell_type": "markdown",
   "metadata": {
    "collapsed": false
   },
   "source": [
    "### Signature generation\n",
    "\n",
    "Para gerar a assinatura criámos a função $\\textit{signatureGeneration}$ que recebe como argumento a $\\textbf{mensagem}$, a $\\textbf{PubKey}$ e a $\\textbf{PrivKey}$.\n",
    "\n",
    "Começámos por gerar um $\\textbf{k}$ aleatório que fosse $\\textit{primo relativo}$ com $p-1$ e estivesse no intervalo $ 2 \\leq k \\leq p-2$.\n",
    "\n",
    "De seguida gerámos um $\\textbf{g}$:\n",
    "$$ g = r^k$$\n",
    "e o $\\textbf{r}$ vem da $\\textbf{PubKey}$.\n",
    "\n",
    "De seguida, calculámos o $\\textbf{s}$:\n",
    "$$ s = (h - x * g) * l \\mod (p-1)$$\n",
    "onde, \n",
    "<ul>\n",
    "    <li>$\\textbf{h}$ é a mensagem após ser aplicada a função de $\\textit{hash}$</li>\n",
    "    <li>$\\textbf{x}$ vem da $\\textit{PrivKey}$</li>\n",
    "    <li>$l = \\frac{1}{k}$</li>\n",
    "</ul>\n",
    "\n",
    "Retornámos $\\textbf{(g,s)}$."
   ]
  },
  {
   "cell_type": "code",
   "execution_count": 2,
   "metadata": {
    "collapsed": false,
    "scrolled": true
   },
   "outputs": [
   ],
   "source": [
    "import hashlib\n",
    "\n",
    "def signatureGeneration(inputMessage, PubKey, PrivKey):\n",
    "    p,r,_ = PubKey\n",
    "    _,_,x = PrivKey\n",
    "    \n",
    "    global h\n",
    "    \n",
    "    HH =hashlib.sha256(str(inputMessage).encode()).hexdigest()\n",
    "    h = ZZ('0x'+HH)\n",
    "    \n",
    "    while True:\n",
    "        k = random.randint(2, p-2)\n",
    "        if (gcd(k,p-1) == 1):\n",
    "            break\n",
    "            \n",
    "    g = pow(r,k)\n",
    "    \n",
    "    \n",
    "    Zp = IntegerModRing(p-1)\n",
    "    l = 1/k\n",
    "    s = Zp((h - x * int(g))*l)\n",
    "    \n",
    "    if s == 0:\n",
    "        signatureGeneration(PubKey, PrivKey)\n",
    "    \n",
    "    \n",
    "    return (g,s)\n"
   ]
  },
  {
   "cell_type": "markdown",
   "metadata": {
    "collapsed": false
   },
   "source": [
    "Criámos uma função de verificação para garantir que se obtinha o resultado desejado assim, fizemos duas verificações:\n",
    "<ul>\n",
    "    <li> se  $0 < r < p$ e se $0 < s < p-1$</li>\n",
    "    <li>a assinatura só é válida se só se $r^h \\equiv (b^g * g^s) (\\mod p)$ </li>\n",
    "</ul>"
   ]
  },
  {
   "cell_type": "code",
   "execution_count": 3,
   "metadata": {
    "collapsed": false
   },
   "outputs": [
   ],
   "source": [
    "def verification(pair, m, PubKey):\n",
    "    p,r,b = PubKey\n",
    "    g,s = pair\n",
    "    Zp = IntegerModRing(p)\n",
    "    \n",
    "    if 1 <= int(g) < p-1:\n",
    "        v1 = Zp(pow(b,g) * pow(g,s))\n",
    "        v2 = Zp(pow(r,h))\n",
    "        \n",
    "        if v1 == v2:\n",
    "            return True\n",
    "    return False"
   ]
  },
  {
   "cell_type": "code",
   "execution_count": 12,
   "metadata": {
    "collapsed": false
   },
   "outputs": [
   ],
   "source": [
    "def main(bits, inputMessage):\n",
    "    PubKey, PrivKey = keyGeneration(bits)\n",
    "    pair = signatureGeneration(inputMessage, PubKey, PrivKey)\n",
    "    result = verification(pair,h, PubKey)\n",
    "    print(\"A assinatura é válida para a mensagem \", '\"', inputMessage, '\"?: ',result)"
   ]
  },
  {
   "cell_type": "markdown",
   "metadata": {
    "collapsed": false
   },
   "source": [
    "### Segurança\n",
    "\n"
   ]
  },
  {
   "cell_type": "markdown",
   "metadata": {
    "collapsed": false
   },
   "source": [
    "Este sistema criptográfico também tem as suas falhas, é possível, para alguém do exterior, descobrir o valor de $x$ presente na chave privada ou até, encontrar um colisão na função $\\textit{hash}$, ou seja, $$ H(m) \\equiv H(m')\\: (mod\\: p -1)$$ no entanto ambos os problemas são muito improváveis de acontecer.\n",
    "\n",
    "Para evitar este tipo de ataques o dono da chave privada deve escolher um $k$ diferente para cada uma das suas assinaturas e ter a garantia que o valor atribuído a $k$ nunca será descoberto. Caso contrário, um $\\textit{hacker}$ poderá ter acesso ao valor da sua chave privada, em particular, se o valor de $k$ for o mesmo em assinaturas diferentes, o $\\textit{hacker}$ consegue computar o valor de $x$ diretamente."
   ]
  },
  {
   "cell_type": "markdown",
   "metadata": {
    "collapsed": false
   },
   "source": [
    "### Exemplo 1"
   ]
  },
  {
   "cell_type": "markdown",
   "metadata": {
    "collapsed": false
   },
   "source": [
    "Os docentes da UC de Teoria de Números Computacional queriam comunicar entre si para trocar mensagens sobre as perguntas que iam ser colocadas no teste. Assim, cada professor criou uma chave pública e uma chave privada. Os alunos de LCC, com o conhecimento obtido na cadeira, tentaram decifrar as mensagens mas, como é óbvio, sem sucesso... 😭😭😳"
   ]
  },
  {
   "cell_type": "code",
   "execution_count": 15,
   "metadata": {
    "collapsed": false
   },
   "outputs": [
    {
     "data": {
      "application/vnd.jupyter.widget-view+json": {
       "model_id": "80320710245b4aab9479963c932e2fe3",
       "version_major": 2,
       "version_minor": 0
      },
      "text/plain": [
       "Interactive function <function elGamal at 0x7f47d450d1f0> with 2 widgets\n",
       "  bits: TransformIntSlider(value=300,…"
      ]
     },
     "execution_count": 15,
     "metadata": {
     },
     "output_type": "execute_result"
    }
   ],
   "source": [
    "@interact\n",
    "def elGamal(bits=slider(300, 1028, 4, 8, 'Numero de bits', False), inputMessage=input_box('\"Uma questão do teste podia ser sobre encriptar uma mensagem, usando o Esquema de Assinatura ElGamal\"', label=\"$message$\",width=100)):\n",
    "    print(\"Bits: \", bits)\n",
    "    main(bits, inputMessage)\n",
    "\n"
   ]
  },
  {
   "cell_type": "markdown",
   "metadata": {
    "collapsed": false
   },
   "source": [
    "### Exemplo 2"
   ]
  },
  {
   "cell_type": "markdown",
   "metadata": {
    "collapsed": false
   },
   "source": [
    "O presidente do Aljustrelinhos da Madeira, de seu nome António Figueiredo, queria corromper a arbitragem em Portugal. De forma a cumprir esta sua vontade, decidiu criar uma chave pública e uma chave privada para contornar a justiça nacional. As autoridades competentes decidiram contratar um hacker para o caso que infelizmente não conseguiu decifrar as mensagens visto que o António Figueiredo ainda continua em liberdade."
   ]
  },
  {
   "cell_type": "code",
   "execution_count": 16,
   "metadata": {
    "collapsed": false
   },
   "outputs": [
    {
     "data": {
      "application/vnd.jupyter.widget-view+json": {
       "model_id": "b89b1856061643ce8c53988f3fb48008",
       "version_major": 2,
       "version_minor": 0
      },
      "text/plain": [
       "Interactive function <function elGamal at 0x7f47d450d5e0> with 2 widgets\n",
       "  bits: TransformIntSlider(value=300,…"
      ]
     },
     "execution_count": 16,
     "metadata": {
     },
     "output_type": "execute_result"
    }
   ],
   "source": [
    "@interact\n",
    "def elGamal(bits=slider(300, 1028, 4, 8, 'Numero de bits', False), inputMessage=input_box('\"Vamos ter os padres que escolhemos e ordenámos, nas missas que celebramos, temos é de rezar e cantar bem\"', label=\"$message$\",width=100)):\n",
    "    print(\"Bits: \", bits)\n",
    "    main(bits, inputMessage)"
   ]
  }
 ],
 "metadata": {
  "kernelspec": {
   "display_name": "SageMath 9.2",
   "language": "sagemath",
   "metadata": {
    "cocalc": {
     "description": "Open-source mathematical software system",
     "priority": 10,
     "url": "https://www.sagemath.org/"
    }
   },
   "name": "sage-9.2",
   "resource_dir": "/ext/jupyter/kernels/sage-9.2"
  },
  "language_info": {
   "codemirror_mode": {
    "name": "ipython",
    "version": 3
   },
   "file_extension": ".py",
   "mimetype": "text/x-python",
   "name": "python",
   "nbconvert_exporter": "python",
   "pygments_lexer": "ipython3",
   "version": "3.8.5"
  }
 },
 "nbformat": 4,
 "nbformat_minor": 4
}