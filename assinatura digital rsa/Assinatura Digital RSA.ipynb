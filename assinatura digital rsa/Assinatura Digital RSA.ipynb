{
 "cells": [
  {
   "cell_type": "markdown",
   "metadata": {
    "collapsed": false
   },
   "source": [
    "## Assinatura digital de RSA"
   ]
  },
  {
   "cell_type": "markdown",
   "metadata": {
    "collapsed": false
   },
   "source": [
    "### Criação de uma Chave Pública e uma Chave Privada"
   ]
  },
  {
   "cell_type": "markdown",
   "metadata": {
    "collapsed": false
   },
   "source": [
    "Dado um número de bits, são calculados, aleatoriamente, dois primos, p e q diferentes e, que divididos por 4 dêem resto 3.\n",
    "\n",
    "$$p \\equiv 3 (mod \\:4)$$\n",
    "$$q \\equiv 3 (mod \\:4)$$\n",
    "\n",
    "\n",
    "##### Chave pública\n",
    "\n",
    "Posteriormente, é calculado uma $\\textbf{chave pública}$ que vai ser um par onde o primeiro elemento será:\n",
    "$$ n = p * q$$\n",
    "\n",
    "e o segundo elemento será um valor $\\textit{e}$ obtido aleatoriamente no intervalo $[2, \\phi - 1]$ onde $\\phi = (p - 1) * (q - 1)$, sendo que, o $\\textit{e}$ e o $\\phi$ são primos relativos.\n",
    "\n",
    "$$\\textbf{Chave pública = (n,e)}$$\n",
    "\n",
    "\n",
    "##### Chave privada\n",
    "\n",
    "A chave privada também vai ser retornado como um par no qual o primeiro elemento é:\n",
    "$$ d = e^{-1} \\mod (\\phi)$$\n",
    "\n",
    "e o segundo elemento será o valor $\\textit{n}$\n",
    "\n",
    "$$\\textbf{Chave privada = (d,n)}$$"
   ]
  },
  {
   "cell_type": "code",
   "execution_count": 2,
   "metadata": {
    "collapsed": false
   },
   "outputs": [
   ],
   "source": [
    "def RSA(nbits):\n",
    "    p = random_prime(2^(nbits//2),2^(nbits//2-1))\n",
    "    while mod(p,4)!=3:\n",
    "        p = random_prime(2^(nbits//2),2^(nbits//2-1))\n",
    "    \n",
    "    q = random_prime(2^(nbits//2),2^(nbits//2-1))\n",
    "    while mod(q,4)!=3 and p != q:\n",
    "        q = random_prime(2^(nbits//2),2^(nbits//2-1))\n",
    "    \n",
    "    n = p * q\n",
    "    \n",
    "    phi = (p-1)*(q-1)\n",
    "    \n",
    "    e = randint(2, phi-1)\n",
    "    while gcd(e, phi)!=1:\n",
    "        e = randint(2, phi-1)\n",
    "    \n",
    "    d = power_mod(e, -1, phi)\n",
    "    \n",
    "    public_key = (n, e)\n",
    "    private_key = (d,n)\n",
    "        \n",
    "    return public_key, private_key"
   ]
  },
  {
   "cell_type": "markdown",
   "metadata": {
    "collapsed": false
   },
   "source": [
    "## Encriptação"
   ]
  },
  {
   "cell_type": "markdown",
   "metadata": {
    "collapsed": false
   },
   "source": [
    "Na função $\\textbf{RSA_encrypt}$ é passado como argumento uma $\\textit{signMessage}$ que será um par $(s, mensagem)$, onde $\\textit{s}$ será: $$s = h^d (\\mod n)$$ no qual $\\textit{h}$ é o $\\textbf{hashcode}$ da mensagem inicial $( h = H(mensagem))$.\n",
    "\n",
    "Para além deste argumento, a $\\textbf{pubKey}$ também é dada como argumento.\n",
    "\n",
    "Esta função irá retornar: $$s^e (\\mod n)$$"
   ]
  },
  {
   "cell_type": "code",
   "execution_count": 3,
   "metadata": {
    "collapsed": false
   },
   "outputs": [
   ],
   "source": [
    "def RSA_Encrypt(signMessage, pubKey):\n",
    "    n,e = pubKey\n",
    "    s,_ = signMessage\n",
    "    return power_mod(s,e,n)"
   ]
  },
  {
   "cell_type": "markdown",
   "metadata": {
    "collapsed": false
   },
   "source": [
    "### Prova"
   ]
  },
  {
   "cell_type": "markdown",
   "metadata": {
    "collapsed": false
   },
   "source": [
    "Para provar a correção do RSA usamos o teorema de Euler, $\\textbf{eulerProof}$, onde queremos mostrar que:\n",
    "$$ m == m^{e*d} (\\mod n)$$"
   ]
  },
  {
   "cell_type": "code",
   "execution_count": 12,
   "metadata": {
    "collapsed": false
   },
   "outputs": [
   ],
   "source": [
    "def eulerProof(m, pubKey, privKey):\n",
    "    return m == power_mod(m, pubKey[1]*privKey[0],pubKey[0])"
   ]
  },
  {
   "cell_type": "code",
   "execution_count": 19,
   "metadata": {
    "collapsed": false
   },
   "outputs": [
    {
     "data": {
      "application/vnd.jupyter.widget-view+json": {
       "model_id": "02e1ab2e3d004ff88deeb735d2f1f7da",
       "version_major": 2,
       "version_minor": 0
      },
      "text/plain": [
       "Interactive function <function digitalSignatureRSA at 0x7f283f7570d0> with 2 widgets\n",
       "  bits: TransformIntSlide…"
      ]
     },
     "execution_count": 19,
     "metadata": {
     },
     "output_type": "execute_result"
    }
   ],
   "source": [
    "import hashlib\n",
    "\n",
    "@interact\n",
    "def digitalSignatureRSA(bits=slider(260, 1028, 4, 8, 'Numero de bits', False), inputMessage=input_box('\"Nobody expects the Spanish Inquisition\"', label=\"$message$\",width=20)):\n",
    "    \n",
    "    print(\"Bits: \", bits)\n",
    "    \n",
    "    HH =hashlib.sha256(str(inputMessage).encode()).hexdigest()\n",
    "    h = ZZ('0x'+HH)\n",
    "    \n",
    "    pubKey, privKey = RSA(bits)\n",
    "    \n",
    "    n,e = pubKey\n",
    "    d,n = privKey\n",
    "    \n",
    "    s = power_mod(h, d, n)\n",
    "\n",
    "    signMessage = (s, \"AaAaAa\")\n",
    "    \n",
    "    h1 = RSA_Encrypt(signMessage, pubKey)\n",
    "    \n",
    "    \n",
    "    print(\"A assinatura h1 == h(m) é válida?\\n\",h == h1)\n",
    "\n",
    "    proof = eulerProof(h, pubKey, privKey)\n",
    "    \n",
    "    print(\"Satisfaz o teorema de Euler?\\n\", proof)"
   ]
  },
  {
   "cell_type": "markdown",
   "metadata": {
    "collapsed": false
   },
   "source": [
    "## Verificação da hash criptográfica"
   ]
  },
  {
   "cell_type": "markdown",
   "metadata": {
    "collapsed": false
   },
   "source": [
    "Para verificar a hash criptográfica tem de satisfazer 3 propriedades.\n",
    "<ol type=\"a\">\n",
    "    <li><b>Preimage Resistant</b> - Deve ser difícil encontrar a mensagem com o valor do hash dado.</li>\n",
    "    <li><b>Collision Resistant</b> - Deve ser difícil encontrar duas mensagens com o mesmo valor de hash.</li> \n",
    "    <li><b>Second Preimage Resistant</b> - Dado uma mensagem, deve ser difícil encontrar outra\n",
    "mensagem com o mesmo valor hash.</li>\n",
    "</ol>"
   ]
  },
  {
   "cell_type": "markdown",
   "metadata": {
    "collapsed": false
   },
   "source": [
    "### Requirement for preimage resistance"
   ]
  },
  {
   "cell_type": "markdown",
   "metadata": {
    "collapsed": false
   },
   "source": [
    "A propriedade one-way é a única maneira de parar um criptoanalista de preparar uma mensagem com uma determinada assinatura. Numa função hash que não tem a propriedade one-way, deparamo-nos com a seguinte adversidade:\n",
    "        <li>A Eve calcula:\n",
    "            <b>h1 = $r^e$ (mod N)</b>\n",
    "        <li>Eve também calcula a pré-imagem de h1 sob h (lembrar de que estamos a assumir que h não têm a propriedade one-way),ou seja,Eve calcula:\n",
    "            <b> m = $h^{-1}$(h1)</b>"
   ]
  },
  {
   "cell_type": "markdown",
   "metadata": {
    "collapsed": false
   },
   "source": [
    "Eve tem agora a sua assinatura $(m,r)$ na mensagem $m$. Essa tal falsificação é chamada de falsificação existencial no sentido em que o invasor pode não ter qualquer controlo sobre o conteúdo da mensagem na qual ele obteve uma assinatura digital."
   ]
  },
  {
   "cell_type": "markdown",
   "metadata": {
    "collapsed": false
   },
   "source": [
    "### Requirement for collision resistance"
   ]
  },
  {
   "cell_type": "markdown",
   "metadata": {
    "collapsed": false
   },
   "source": [
    "Esta propriedade é necessária para evitar o seguinte ataque, que é feito pelo <i>signer</i> legítimo.\n",
    "<ul>\n",
    "    <li>O <i>signer</i> escolhe duas mensagens <b><i>m</i></b> e <b><i>m'</i></b> com h(<b><i>m</i></b>) = h(<b><i>m'</i></b>)</li>\n",
    "    <li>Eles assinam <b><i>m</i></b> e geram o resultado da assinatura (<b><i>m</i></b>, <b><i>s</i></b>)</li>\n",
    "    <li>Depois eles recusam a assinatura, dizendo que era a assinatura da mensagem <b><i>m'</i></b></li>\n",
    "</ul>\n",
    "Exemplo:\n",
    "\n",
    "Um <i>signer</i> pode escolher entre um <b><i>m</i></b>, sendo este um cheque eletrónico de 1000€, e um <b><i>m'</i></b> que é o cheque eletrónico de 10€. São duas mensagens diferentes com a mesma hash e, independentemente da escolha que fizer é indiferente se faz a assinatura ou não, pois tanto  <b><i>m</i></b> e  <b><i>m'</i></b> têm a mesma hash."
   ]
  },
  {
   "cell_type": "markdown",
   "metadata": {
    "collapsed": false
   },
   "source": [
    "### Requirement for second preimage resistance"
   ]
  },
  {
   "cell_type": "markdown",
   "metadata": {
    "collapsed": false
   },
   "source": [
    "Esta propriedade é necessária para evitar o seguinte ataque:\n",
    "<ul>\n",
    "    <li>Um infrator obtém a assinatura <i>(m,s)</i> de uma mensagem <i>m</i>.</li>\n",
    "    <li>O infrator encontra outra mensagem <i> m' </i> através de <i>h(m') = h(m)</i>.</li>\n",
    "    <li>O infrator tem agora a assinatura <i>(m',s)</i> através da mensagem <i>m'</i>.</li>\n",
    "</ul>"
   ]
  },
  {
   "cell_type": "markdown",
   "metadata": {
    "collapsed": false
   },
   "source": [
    "Um infrator consegue obter uma assinatura <i>(m,s)</i> através de uma mensagem <i>m</i> executando o seguinte cálculo:\n",
    "$$s = m^d \\mod n$$\n",
    "onde d é obtido a partir de uma <i>PrivKey</i>.\n",
    "\n",
    "Após isso o infrator calcula o <i>hashcode</i> da mensagem inicial e tenta encontrar uma nova mensagem com o mesmo <i>hashcode</i> no entanto, como o algoritmo utilizado para encriptar a mensagem é o <b>SHA256</b>, apesar de ser teoricamente possível encontrar duas mensagens com o mesmo <i>hascode</i>, é muito improvável isso acontecer."
   ]
  },
  {
   "cell_type": "markdown",
   "metadata": {
    "collapsed": false
   },
   "source": [
    "## Chaum's Blind Signature Scheme"
   ]
  },
  {
   "cell_type": "markdown",
   "metadata": {
    "collapsed": false
   },
   "source": [
    "O esquema de assinatura cega de Chaum é um esquema baseado em RSA, adaptado para assinaturas cegas. No protocolo a seguir, assumimos que o Bob configurou uma chave RSA pública (e, n) com a chave privada correspondente (d, n), de modo a que as funções de assinatura RSA de Bob sejam $S_{B}(m) = m^d$.\n",
    "<ul>  \n",
    "    <li><i>Initial setup:</i> <b>Alice</b> obtém a chave pública do <b>Bob</b> <i>(e, n)</i> e escolhe uma chave pública aleatória <i>k</i>, tal que $0 < k < n$ e GCD$\\textit{(e,n)} = 1$.   </li>\n",
    "    <li><i>Blinding:</i> <b>Alice</b> calcula $m'= m * k^e (\\mod n)$, e envia $m'$ para o <b>Bob</b>.</li>\n",
    "      <li><i>Signing: </i><b>Bob</b> calcula $s' = (m')^d (\\mod n)$, que ele envia de volta para a <b>Alice.</b></li>\n",
    "      <li><i>Unblinding:</i> <b>Alice</b> calcula $s = k^{-1} * s'$, que é igual a $s = S_{B}(m) = m^d$.</li>\n",
    "</ul>\n",
    "\n",
    "Esta assinatura é verdadeira se:\n",
    "\n",
    "$$s = m^d \\models true$$"
   ]
  },
  {
   "cell_type": "code",
   "execution_count": 14,
   "metadata": {
    "collapsed": false
   },
   "outputs": [
   ],
   "source": [
    "import random\n",
    "import hashlib\n",
    "\n",
    "def initialSetup(n):\n",
    "    while(True):\n",
    "        k = random.randint(0, n)\n",
    "        if (gcd(k,n) == 1):\n",
    "            break\n",
    "    return k"
   ]
  },
  {
   "cell_type": "code",
   "execution_count": 15,
   "metadata": {
    "collapsed": false
   },
   "outputs": [
   ],
   "source": [
    "def blinding(m,k,pubKey):\n",
    "    n,e = pubKey\n",
    "    Zn = IntegerModRing(n)\n",
    "    a = Zn(k)\n",
    "    return Zn(m * a^e)"
   ]
  },
  {
   "cell_type": "code",
   "execution_count": 16,
   "metadata": {
    "collapsed": false
   },
   "outputs": [
   ],
   "source": [
    "def signing(m1,privKey):\n",
    "    d,n = privKey\n",
    "    Zn = IntegerModRing(n)\n",
    "    return Zn(m1^d)"
   ]
  },
  {
   "cell_type": "code",
   "execution_count": 17,
   "metadata": {
    "collapsed": false
   },
   "outputs": [
   ],
   "source": [
    "def unblinding(k, s1,n):\n",
    "    Zn = IntegerModRing(n)\n",
    "    a = Zn(k)\n",
    "    s = pow (a, -1)\n",
    "    return Zn(s * s1)"
   ]
  },
  {
   "cell_type": "code",
   "execution_count": 18,
   "metadata": {
    "collapsed": false,
    "scrolled": true
   },
   "outputs": [
    {
     "data": {
      "application/vnd.jupyter.widget-view+json": {
       "model_id": "a47cf202eb92462db4b83baa3f98210b",
       "version_major": 2,
       "version_minor": 0
      },
      "text/plain": [
       "Interactive function <function digitalSignatureRSA at 0x7f283f790af0> with 2 widgets\n",
       "  bits: TransformIntSlide…"
      ]
     },
     "execution_count": 18,
     "metadata": {
     },
     "output_type": "execute_result"
    }
   ],
   "source": [
    "@interact\n",
    "def digitalSignatureRSA(bits=slider(256, 1028, 4, 8, 'Numero de bits', False), inputMessage=input_box('\"Nobody expects the Spanish Inquisition\"', label=\"$message$\",width=20)):\n",
    "    print(\"Bits: \", bits)\n",
    "    \n",
    "    HH =hashlib.sha256(str(inputMessage).encode()).hexdigest()\n",
    "    h = ZZ('0x'+HH)\n",
    "    print(inputMessage)\n",
    "    \n",
    "    pubKey, privKey = RSA(bits)\n",
    "    \n",
    "    k = initialSetup(pubKey[0])\n",
    "    \n",
    "       \n",
    "    m1 = blinding(h,k,pubKey)\n",
    "    \n",
    "    \n",
    "    s1 = signing(m1,privKey)\n",
    "    \n",
    "    \n",
    "    result = unblinding(k, s1, pubKey[0])\n",
    "    \n",
    "    signingS = power_mod(h, privKey[0], pubKey[0])\n",
    "    \n",
    "\n",
    "    print(\"s == m^d?\\n\",signingS==result)"
   ]
  },
  {
   "cell_type": "code",
   "execution_count": 0,
   "metadata": {
    "collapsed": false
   },
   "outputs": [
   ],
   "source": [
   ]
  }
 ],
 "metadata": {
  "kernelspec": {
   "display_name": "SageMath 9.2",
   "language": "sagemath",
   "metadata": {
    "cocalc": {
     "description": "Open-source mathematical software system",
     "priority": 10,
     "url": "https://www.sagemath.org/"
    }
   },
   "name": "sage-9.2",
   "resource_dir": "/ext/jupyter/kernels/sage-9.2"
  },
  "language_info": {
   "codemirror_mode": {
    "name": "ipython",
    "version": 3
   },
   "file_extension": ".py",
   "mimetype": "text/x-python",
   "name": "python",
   "nbconvert_exporter": "python",
   "pygments_lexer": "ipython3",
   "version": "3.8.5"
  }
 },
 "nbformat": 4,
 "nbformat_minor": 4
}